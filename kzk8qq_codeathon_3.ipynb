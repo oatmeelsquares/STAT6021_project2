{
  "nbformat": 4,
  "nbformat_minor": 0,
  "metadata": {
    "colab": {
      "provenance": [],
      "gpuType": "T4",
      "authorship_tag": "ABX9TyMMTsgtAb1FonbaypMIpuz4",
      "include_colab_link": true
    },
    "kernelspec": {
      "name": "python3",
      "display_name": "Python 3"
    },
    "language_info": {
      "name": "python"
    },
    "accelerator": "GPU"
  },
  "cells": [
    {
      "cell_type": "markdown",
      "metadata": {
        "id": "view-in-github",
        "colab_type": "text"
      },
      "source": [
        "<a href=\"https://colab.research.google.com/github/oatmeelsquares/STAT6021_project2/blob/main/kzk8qq_codeathon_3.ipynb\" target=\"_parent\"><img src=\"https://colab.research.google.com/assets/colab-badge.svg\" alt=\"Open In Colab\"/></a>"
      ]
    },
    {
      "cell_type": "markdown",
      "source": [
        "Codeathon 3:\n",
        "kzk8qq\n",
        "Alexandra Ferentinos"
      ],
      "metadata": {
        "id": "hd12cZlDBc8m"
      }
    },
    {
      "cell_type": "code",
      "execution_count": 12,
      "metadata": {
        "id": "m6r9Bbn5Fv0d"
      },
      "outputs": [],
      "source": [
        "import os\n",
        "import keras_hub\n",
        "import keras\n",
        "import zipfile\n",
        "import tensorflow.data as tf_data\n",
        "import tensorflow.strings as tf_strings"
      ]
    },
    {
      "cell_type": "code",
      "source": [
        "# Data\n",
        "BATCH_SIZE = 64\n",
        "MIN_STRING_LEN = 512  # Strings shorter than this will be discarded\n",
        "SEQ_LEN = 128  # Length of training sequences, in tokens\n",
        "\n",
        "# Model\n",
        "EMBED_DIM = 256\n",
        "FEED_FORWARD_DIM = 128\n",
        "NUM_HEADS = 3\n",
        "NUM_LAYERS = 2\n",
        "VOCAB_SIZE = 5000  # Limits parameters in model.\n",
        "\n",
        "# Training\n",
        "EPOCHS = 5\n",
        "\n",
        "# Inference\n",
        "NUM_TOKENS_TO_GENERATE = 80"
      ],
      "metadata": {
        "id": "DcoT9of_F5BE"
      },
      "execution_count": 13,
      "outputs": []
    },
    {
      "cell_type": "code",
      "source": [
        "#Get current working directory\n",
        "cwd = os.getcwd()\n",
        "\n",
        "file_path = keras.utils.get_file(\n",
        "   fname=\"simplebooks.zip\",\n",
        "   origin=\"https://dldata-public.s3.us-east-2.amazonaws.com/simplebooks.zip\",\n",
        "   extract=False,\n",
        "   cache_dir=cwd\n",
        ")\n",
        "\n",
        "with zipfile.ZipFile(file_path, 'r') as zip_ref:\n",
        "   zip_ref.extractall(cwd)\n",
        "\n",
        "dir = os.path.join(cwd, \"simplebooks/\")\n",
        "\n",
        "raw_train_ds = (\n",
        "   tf_data.TextLineDataset(dir + \"simplebooks-92-raw/train.txt\")\n",
        "   .filter(lambda x: tf_strings.length(x) > MIN_STRING_LEN)\n",
        "   .batch(BATCH_SIZE)\n",
        "   .shuffle(buffer_size=256)\n",
        ")\n",
        "\n",
        "raw_val_ds = (\n",
        "   tf_data.TextLineDataset(dir + \"simplebooks-92-raw/valid.txt\")\n",
        "   .filter(lambda x: tf_strings.length(x) > MIN_STRING_LEN)\n",
        "   .batch(BATCH_SIZE)\n",
        ")\n",
        "print(f\"Dataset extracted to: {dir}\")"
      ],
      "metadata": {
        "colab": {
          "base_uri": "https://localhost:8080/",
          "height": 0
        },
        "id": "s_CCmqziGCcv",
        "outputId": "3aed99c3-f86e-4e5a-a93f-397ba7a9f99a"
      },
      "execution_count": 14,
      "outputs": [
        {
          "output_type": "stream",
          "name": "stdout",
          "text": [
            "Dataset extracted to: /content/simplebooks/\n"
          ]
        }
      ]
    },
    {
      "cell_type": "code",
      "source": [
        "# Train tokenizer vocabulary\n",
        "vocab = keras_hub.tokenizers.compute_word_piece_vocabulary(\n",
        "    raw_train_ds,\n",
        "    vocabulary_size=VOCAB_SIZE,\n",
        "    lowercase=True,\n",
        "    reserved_tokens=[\"[PAD]\", \"[UNK]\", \"[BOS]\"],\n",
        ")"
      ],
      "metadata": {
        "id": "SsoEeLcDGnDg"
      },
      "execution_count": 15,
      "outputs": []
    },
    {
      "cell_type": "code",
      "source": [
        "tokenizer = keras_hub.tokenizers.WordPieceTokenizer(\n",
        "    vocabulary=vocab,\n",
        "    sequence_length=SEQ_LEN,\n",
        "    lowercase=True,\n",
        ")"
      ],
      "metadata": {
        "id": "dRfc02mIIWuM"
      },
      "execution_count": 16,
      "outputs": []
    },
    {
      "cell_type": "code",
      "source": [
        "# packer adds a start token\n",
        "start_packer = keras_hub.layers.StartEndPacker(\n",
        "    sequence_length=SEQ_LEN,\n",
        "    start_value=tokenizer.token_to_id(\"[BOS]\"),\n",
        ")\n",
        "\n",
        "\n",
        "def preprocess(inputs):\n",
        "    outputs = tokenizer(inputs)\n",
        "    features = start_packer(outputs)\n",
        "    labels = outputs\n",
        "    return features, labels\n",
        "\n",
        "\n",
        "# Tokenize and split into train and label sequences.\n",
        "train_ds = raw_train_ds.map(preprocess, num_parallel_calls=tf_data.AUTOTUNE).prefetch(\n",
        "    tf_data.AUTOTUNE\n",
        ")\n",
        "val_ds = raw_val_ds.map(preprocess, num_parallel_calls=tf_data.AUTOTUNE).prefetch(\n",
        "    tf_data.AUTOTUNE\n",
        ")"
      ],
      "metadata": {
        "id": "3sVrKIoGIaDI"
      },
      "execution_count": 17,
      "outputs": []
    },
    {
      "cell_type": "code",
      "source": [
        "inputs = keras.layers.Input(shape=(None,), dtype=\"int32\")\n",
        "# Embedding.\n",
        "embedding_layer = keras_hub.layers.TokenAndPositionEmbedding(\n",
        "    vocabulary_size=VOCAB_SIZE,\n",
        "    sequence_length=SEQ_LEN,\n",
        "    embedding_dim=EMBED_DIM,\n",
        "    mask_zero=True,\n",
        ")\n",
        "x = embedding_layer(inputs)\n",
        "# Transformer decoders.\n",
        "for _ in range(NUM_LAYERS):\n",
        "    decoder_layer = keras_hub.layers.TransformerDecoder(\n",
        "        num_heads=NUM_HEADS,\n",
        "        intermediate_dim=FEED_FORWARD_DIM,\n",
        "    )\n",
        "    x = decoder_layer(x)  # Giving one argument only skips cross-attention.\n",
        "# Output.\n",
        "outputs = keras.layers.Dense(VOCAB_SIZE)(x)\n",
        "model = keras.Model(inputs=inputs, outputs=outputs)\n",
        "loss_fn = keras.losses.SparseCategoricalCrossentropy(from_logits=True)\n",
        "perplexity = keras_hub.metrics.Perplexity(from_logits=True, mask_token_id=0)\n",
        "model.compile(optimizer=\"adam\", loss=loss_fn, metrics=[perplexity])"
      ],
      "metadata": {
        "id": "UuztJsJKIe4C"
      },
      "execution_count": 18,
      "outputs": []
    },
    {
      "cell_type": "code",
      "source": [
        "model.summary()"
      ],
      "metadata": {
        "colab": {
          "base_uri": "https://localhost:8080/",
          "height": 357
        },
        "id": "_YM0l9zmIkPx",
        "outputId": "21067114-ced6-4dfa-a814-b617bf81500b"
      },
      "execution_count": 19,
      "outputs": [
        {
          "output_type": "display_data",
          "data": {
            "text/plain": [
              "\u001b[1mModel: \"functional\"\u001b[0m\n"
            ],
            "text/html": [
              "<pre style=\"white-space:pre;overflow-x:auto;line-height:normal;font-family:Menlo,'DejaVu Sans Mono',consolas,'Courier New',monospace\"><span style=\"font-weight: bold\">Model: \"functional\"</span>\n",
              "</pre>\n"
            ]
          },
          "metadata": {}
        },
        {
          "output_type": "display_data",
          "data": {
            "text/plain": [
              "┏━━━━━━━━━━━━━━━━━━━━━━━━━━━━━━━━━━━━━━┳━━━━━━━━━━━━━━━━━━━━━━━━━━━━━┳━━━━━━━━━━━━━━━━━┓\n",
              "┃\u001b[1m \u001b[0m\u001b[1mLayer (type)                        \u001b[0m\u001b[1m \u001b[0m┃\u001b[1m \u001b[0m\u001b[1mOutput Shape               \u001b[0m\u001b[1m \u001b[0m┃\u001b[1m \u001b[0m\u001b[1m        Param #\u001b[0m\u001b[1m \u001b[0m┃\n",
              "┡━━━━━━━━━━━━━━━━━━━━━━━━━━━━━━━━━━━━━━╇━━━━━━━━━━━━━━━━━━━━━━━━━━━━━╇━━━━━━━━━━━━━━━━━┩\n",
              "│ input_layer (\u001b[38;5;33mInputLayer\u001b[0m)             │ (\u001b[38;5;45mNone\u001b[0m, \u001b[38;5;45mNone\u001b[0m)                │               \u001b[38;5;34m0\u001b[0m │\n",
              "├──────────────────────────────────────┼─────────────────────────────┼─────────────────┤\n",
              "│ token_and_position_embedding         │ (\u001b[38;5;45mNone\u001b[0m, \u001b[38;5;45mNone\u001b[0m, \u001b[38;5;34m256\u001b[0m)           │       \u001b[38;5;34m1,312,768\u001b[0m │\n",
              "│ (\u001b[38;5;33mTokenAndPositionEmbedding\u001b[0m)          │                             │                 │\n",
              "├──────────────────────────────────────┼─────────────────────────────┼─────────────────┤\n",
              "│ transformer_decoder                  │ (\u001b[38;5;45mNone\u001b[0m, \u001b[38;5;45mNone\u001b[0m, \u001b[38;5;34m256\u001b[0m)           │         \u001b[38;5;34m329,085\u001b[0m │\n",
              "│ (\u001b[38;5;33mTransformerDecoder\u001b[0m)                 │                             │                 │\n",
              "├──────────────────────────────────────┼─────────────────────────────┼─────────────────┤\n",
              "│ transformer_decoder_1                │ (\u001b[38;5;45mNone\u001b[0m, \u001b[38;5;45mNone\u001b[0m, \u001b[38;5;34m256\u001b[0m)           │         \u001b[38;5;34m329,085\u001b[0m │\n",
              "│ (\u001b[38;5;33mTransformerDecoder\u001b[0m)                 │                             │                 │\n",
              "├──────────────────────────────────────┼─────────────────────────────┼─────────────────┤\n",
              "│ dense (\u001b[38;5;33mDense\u001b[0m)                        │ (\u001b[38;5;45mNone\u001b[0m, \u001b[38;5;45mNone\u001b[0m, \u001b[38;5;34m5000\u001b[0m)          │       \u001b[38;5;34m1,285,000\u001b[0m │\n",
              "└──────────────────────────────────────┴─────────────────────────────┴─────────────────┘\n"
            ],
            "text/html": [
              "<pre style=\"white-space:pre;overflow-x:auto;line-height:normal;font-family:Menlo,'DejaVu Sans Mono',consolas,'Courier New',monospace\">┏━━━━━━━━━━━━━━━━━━━━━━━━━━━━━━━━━━━━━━┳━━━━━━━━━━━━━━━━━━━━━━━━━━━━━┳━━━━━━━━━━━━━━━━━┓\n",
              "┃<span style=\"font-weight: bold\"> Layer (type)                         </span>┃<span style=\"font-weight: bold\"> Output Shape                </span>┃<span style=\"font-weight: bold\">         Param # </span>┃\n",
              "┡━━━━━━━━━━━━━━━━━━━━━━━━━━━━━━━━━━━━━━╇━━━━━━━━━━━━━━━━━━━━━━━━━━━━━╇━━━━━━━━━━━━━━━━━┩\n",
              "│ input_layer (<span style=\"color: #0087ff; text-decoration-color: #0087ff\">InputLayer</span>)             │ (<span style=\"color: #00d7ff; text-decoration-color: #00d7ff\">None</span>, <span style=\"color: #00d7ff; text-decoration-color: #00d7ff\">None</span>)                │               <span style=\"color: #00af00; text-decoration-color: #00af00\">0</span> │\n",
              "├──────────────────────────────────────┼─────────────────────────────┼─────────────────┤\n",
              "│ token_and_position_embedding         │ (<span style=\"color: #00d7ff; text-decoration-color: #00d7ff\">None</span>, <span style=\"color: #00d7ff; text-decoration-color: #00d7ff\">None</span>, <span style=\"color: #00af00; text-decoration-color: #00af00\">256</span>)           │       <span style=\"color: #00af00; text-decoration-color: #00af00\">1,312,768</span> │\n",
              "│ (<span style=\"color: #0087ff; text-decoration-color: #0087ff\">TokenAndPositionEmbedding</span>)          │                             │                 │\n",
              "├──────────────────────────────────────┼─────────────────────────────┼─────────────────┤\n",
              "│ transformer_decoder                  │ (<span style=\"color: #00d7ff; text-decoration-color: #00d7ff\">None</span>, <span style=\"color: #00d7ff; text-decoration-color: #00d7ff\">None</span>, <span style=\"color: #00af00; text-decoration-color: #00af00\">256</span>)           │         <span style=\"color: #00af00; text-decoration-color: #00af00\">329,085</span> │\n",
              "│ (<span style=\"color: #0087ff; text-decoration-color: #0087ff\">TransformerDecoder</span>)                 │                             │                 │\n",
              "├──────────────────────────────────────┼─────────────────────────────┼─────────────────┤\n",
              "│ transformer_decoder_1                │ (<span style=\"color: #00d7ff; text-decoration-color: #00d7ff\">None</span>, <span style=\"color: #00d7ff; text-decoration-color: #00d7ff\">None</span>, <span style=\"color: #00af00; text-decoration-color: #00af00\">256</span>)           │         <span style=\"color: #00af00; text-decoration-color: #00af00\">329,085</span> │\n",
              "│ (<span style=\"color: #0087ff; text-decoration-color: #0087ff\">TransformerDecoder</span>)                 │                             │                 │\n",
              "├──────────────────────────────────────┼─────────────────────────────┼─────────────────┤\n",
              "│ dense (<span style=\"color: #0087ff; text-decoration-color: #0087ff\">Dense</span>)                        │ (<span style=\"color: #00d7ff; text-decoration-color: #00d7ff\">None</span>, <span style=\"color: #00d7ff; text-decoration-color: #00d7ff\">None</span>, <span style=\"color: #00af00; text-decoration-color: #00af00\">5000</span>)          │       <span style=\"color: #00af00; text-decoration-color: #00af00\">1,285,000</span> │\n",
              "└──────────────────────────────────────┴─────────────────────────────┴─────────────────┘\n",
              "</pre>\n"
            ]
          },
          "metadata": {}
        },
        {
          "output_type": "display_data",
          "data": {
            "text/plain": [
              "\u001b[1m Total params: \u001b[0m\u001b[38;5;34m3,255,938\u001b[0m (12.42 MB)\n"
            ],
            "text/html": [
              "<pre style=\"white-space:pre;overflow-x:auto;line-height:normal;font-family:Menlo,'DejaVu Sans Mono',consolas,'Courier New',monospace\"><span style=\"font-weight: bold\"> Total params: </span><span style=\"color: #00af00; text-decoration-color: #00af00\">3,255,938</span> (12.42 MB)\n",
              "</pre>\n"
            ]
          },
          "metadata": {}
        },
        {
          "output_type": "display_data",
          "data": {
            "text/plain": [
              "\u001b[1m Trainable params: \u001b[0m\u001b[38;5;34m3,255,938\u001b[0m (12.42 MB)\n"
            ],
            "text/html": [
              "<pre style=\"white-space:pre;overflow-x:auto;line-height:normal;font-family:Menlo,'DejaVu Sans Mono',consolas,'Courier New',monospace\"><span style=\"font-weight: bold\"> Trainable params: </span><span style=\"color: #00af00; text-decoration-color: #00af00\">3,255,938</span> (12.42 MB)\n",
              "</pre>\n"
            ]
          },
          "metadata": {}
        },
        {
          "output_type": "display_data",
          "data": {
            "text/plain": [
              "\u001b[1m Non-trainable params: \u001b[0m\u001b[38;5;34m0\u001b[0m (0.00 B)\n"
            ],
            "text/html": [
              "<pre style=\"white-space:pre;overflow-x:auto;line-height:normal;font-family:Menlo,'DejaVu Sans Mono',consolas,'Courier New',monospace\"><span style=\"font-weight: bold\"> Non-trainable params: </span><span style=\"color: #00af00; text-decoration-color: #00af00\">0</span> (0.00 B)\n",
              "</pre>\n"
            ]
          },
          "metadata": {}
        }
      ]
    },
    {
      "cell_type": "code",
      "source": [
        "model.fit(train_ds, validation_data=val_ds, epochs=EPOCHS)"
      ],
      "metadata": {
        "colab": {
          "base_uri": "https://localhost:8080/",
          "height": 0
        },
        "id": "8mMMx98BIm0G",
        "outputId": "2ed50f99-a8f5-4b75-e969-21c491d6b2da"
      },
      "execution_count": 20,
      "outputs": [
        {
          "output_type": "stream",
          "name": "stdout",
          "text": [
            "Epoch 1/5\n"
          ]
        },
        {
          "output_type": "stream",
          "name": "stderr",
          "text": [
            "/usr/local/lib/python3.10/dist-packages/keras/src/layers/layer.py:932: UserWarning: Layer 'position_embedding' (of type PositionEmbedding) was passed an input with a mask attached to it. However, this layer does not support masking and will therefore destroy the mask information. Downstream layers will not see the mask.\n",
            "  warnings.warn(\n",
            "/usr/local/lib/python3.10/dist-packages/keras/src/layers/layer.py:932: UserWarning: Layer 'query' (of type EinsumDense) was passed an input with a mask attached to it. However, this layer does not support masking and will therefore destroy the mask information. Downstream layers will not see the mask.\n",
            "  warnings.warn(\n",
            "/usr/local/lib/python3.10/dist-packages/keras/src/layers/layer.py:932: UserWarning: Layer 'key' (of type EinsumDense) was passed an input with a mask attached to it. However, this layer does not support masking and will therefore destroy the mask information. Downstream layers will not see the mask.\n",
            "  warnings.warn(\n",
            "/usr/local/lib/python3.10/dist-packages/keras/src/layers/layer.py:932: UserWarning: Layer 'value' (of type EinsumDense) was passed an input with a mask attached to it. However, this layer does not support masking and will therefore destroy the mask information. Downstream layers will not see the mask.\n",
            "  warnings.warn(\n"
          ]
        },
        {
          "output_type": "stream",
          "name": "stdout",
          "text": [
            "   2445/Unknown \u001b[1m143s\u001b[0m 51ms/step - loss: 5.0018 - perplexity: 179.0602"
          ]
        },
        {
          "output_type": "stream",
          "name": "stderr",
          "text": [
            "/usr/lib/python3.10/contextlib.py:153: UserWarning: Your input ran out of data; interrupting training. Make sure that your dataset or generator can generate at least `steps_per_epoch * epochs` batches. You may need to use the `.repeat()` function when building your dataset.\n",
            "  self.gen.throw(typ, value, traceback)\n"
          ]
        },
        {
          "output_type": "stream",
          "name": "stdout",
          "text": [
            "\b\b\b\b\b\b\b\b\b\b\b\b\b\b\b\b\b\b\b\b\b\b\b\b\b\b\b\b\b\b\b\b\b\b\b\b\b\b\b\b\b\b\b\b\b\b\b\b\b\b\b\b\b\b\b\b\b\b\b\b\b\b\b\b\b\b\b\b\r\u001b[1m2445/2445\u001b[0m \u001b[32m━━━━━━━━━━━━━━━━━━━━\u001b[0m\u001b[37m\u001b[0m \u001b[1m148s\u001b[0m 53ms/step - loss: 5.0017 - perplexity: 179.0375 - val_loss: 4.2320 - val_perplexity: 68.9748\n",
            "Epoch 2/5\n",
            "\u001b[1m2445/2445\u001b[0m \u001b[32m━━━━━━━━━━━━━━━━━━━━\u001b[0m\u001b[37m\u001b[0m \u001b[1m124s\u001b[0m 48ms/step - loss: 4.1723 - perplexity: 64.9344 - val_loss: 4.0926 - val_perplexity: 59.9991\n",
            "Epoch 3/5\n",
            "\u001b[1m2445/2445\u001b[0m \u001b[32m━━━━━━━━━━━━━━━━━━━━\u001b[0m\u001b[37m\u001b[0m \u001b[1m124s\u001b[0m 48ms/step - loss: 4.0311 - perplexity: 56.3591 - val_loss: 4.0181 - val_perplexity: 55.6350\n",
            "Epoch 4/5\n",
            "\u001b[1m2445/2445\u001b[0m \u001b[32m━━━━━━━━━━━━━━━━━━━━\u001b[0m\u001b[37m\u001b[0m \u001b[1m143s\u001b[0m 49ms/step - loss: 3.9562 - perplexity: 52.2866 - val_loss: 3.9902 - val_perplexity: 54.1588\n",
            "Epoch 5/5\n",
            "\u001b[1m2445/2445\u001b[0m \u001b[32m━━━━━━━━━━━━━━━━━━━━\u001b[0m\u001b[37m\u001b[0m \u001b[1m128s\u001b[0m 50ms/step - loss: 3.9137 - perplexity: 50.1147 - val_loss: 3.9818 - val_perplexity: 53.6558\n"
          ]
        },
        {
          "output_type": "execute_result",
          "data": {
            "text/plain": [
              "<keras.src.callbacks.history.History at 0x7897c73c5cf0>"
            ]
          },
          "metadata": {},
          "execution_count": 20
        }
      ]
    },
    {
      "cell_type": "code",
      "source": [
        "# The \"packer\" layers adds the [BOS] token for us.\n",
        "prompt_tokens = start_packer(tokenizer([\"\"]))\n",
        "prompt_tokens"
      ],
      "metadata": {
        "colab": {
          "base_uri": "https://localhost:8080/",
          "height": 0
        },
        "id": "UFe1ramkqrOD",
        "outputId": "60816ccc-2396-4d00-e97e-813fb85cab27"
      },
      "execution_count": 21,
      "outputs": [
        {
          "output_type": "execute_result",
          "data": {
            "text/plain": [
              "<tf.Tensor: shape=(1, 128), dtype=int32, numpy=\n",
              "array([[2, 0, 0, 0, 0, 0, 0, 0, 0, 0, 0, 0, 0, 0, 0, 0, 0, 0, 0, 0, 0, 0,\n",
              "        0, 0, 0, 0, 0, 0, 0, 0, 0, 0, 0, 0, 0, 0, 0, 0, 0, 0, 0, 0, 0, 0,\n",
              "        0, 0, 0, 0, 0, 0, 0, 0, 0, 0, 0, 0, 0, 0, 0, 0, 0, 0, 0, 0, 0, 0,\n",
              "        0, 0, 0, 0, 0, 0, 0, 0, 0, 0, 0, 0, 0, 0, 0, 0, 0, 0, 0, 0, 0, 0,\n",
              "        0, 0, 0, 0, 0, 0, 0, 0, 0, 0, 0, 0, 0, 0, 0, 0, 0, 0, 0, 0, 0, 0,\n",
              "        0, 0, 0, 0, 0, 0, 0, 0, 0, 0, 0, 0, 0, 0, 0, 0, 0, 0]],\n",
              "      dtype=int32)>"
            ]
          },
          "metadata": {},
          "execution_count": 21
        }
      ]
    },
    {
      "cell_type": "code",
      "source": [
        "def next(prompt, cache, index):\n",
        "    logits = model(prompt)[:, index - 1, :]\n",
        "    # Ignore hidden states for now; only needed for contrastive search.\n",
        "    hidden_states = None\n",
        "    return logits, hidden_states, cache"
      ],
      "metadata": {
        "id": "TyE84PK2qs39"
      },
      "execution_count": 22,
      "outputs": []
    },
    {
      "cell_type": "code",
      "source": [
        "sampler = keras_hub.samplers.GreedySampler()\n",
        "output_tokens = sampler(\n",
        "    next=next,\n",
        "    prompt=prompt_tokens,\n",
        "    index=1,  # Start sampling immediately after the [BOS] token.\n",
        ")\n",
        "txt = tokenizer.detokenize(output_tokens)\n",
        "print(f\"Greedy search generated text: \\n{txt}\\n\")"
      ],
      "metadata": {
        "colab": {
          "base_uri": "https://localhost:8080/",
          "height": 0
        },
        "id": "LsBjjaRcqugg",
        "outputId": "43d28e02-4e6f-4ec4-b328-191e9af2ac6b"
      },
      "execution_count": 23,
      "outputs": [
        {
          "output_type": "stream",
          "name": "stdout",
          "text": [
            "Greedy search generated text: \n",
            "['[BOS] \" i am not going to tell you , \" said the boy , \" i am not going to tell you that you are not going to be a good one . you are not going to be a good one . you are going to be a good one . you are going to be a good one . you are going to be a good one . you are going to be a good one . you are going to be a good one . you are going to be a good one . you are going to be a good one . you can \\' t get a good , and you can \\' t get any more . you can \\' t']\n",
            "\n"
          ]
        }
      ]
    },
    {
      "cell_type": "code",
      "source": [
        "sampler = keras_hub.samplers.BeamSampler(num_beams=10)\n",
        "output_tokens = sampler(\n",
        "    next=next,\n",
        "    prompt=prompt_tokens,\n",
        "    index=1,\n",
        ")\n",
        "txt = tokenizer.detokenize(output_tokens)\n",
        "print(f\"Beam search generated text: \\n{txt}\\n\")"
      ],
      "metadata": {
        "colab": {
          "base_uri": "https://localhost:8080/",
          "height": 0
        },
        "id": "iIP1a4UgqwZd",
        "outputId": "c0b213ea-37d2-48e6-98b2-acfd7a953dd4"
      },
      "execution_count": 24,
      "outputs": [
        {
          "output_type": "stream",
          "name": "stdout",
          "text": [
            "Beam search generated text: \n",
            "['[BOS] \" i don \\' t know , \" said hugh . \" i \\' m going to tell you what i \\' ll do . i \\' ll tell you something about it . i don \\' t want to tell you about it . i don \\' t want to tell you about it . i don \\' t want to tell you about it . i don \\' t want to tell you about it . i don \\' t want to tell you about it . i don \\' t like it . i don \\' t like it . i don \\' t like it . i don \\' t like it . i don \\' t like it . i don \\'']\n",
            "\n"
          ]
        }
      ]
    },
    {
      "cell_type": "code",
      "source": [
        "sampler = keras_hub.samplers.RandomSampler()\n",
        "output_tokens = sampler(\n",
        "    next=next,\n",
        "    prompt=prompt_tokens,\n",
        "    index=1,\n",
        ")\n",
        "txt = tokenizer.detokenize(output_tokens)\n",
        "print(f\"Random search generated text: \\n{txt}\\n\")"
      ],
      "metadata": {
        "colab": {
          "base_uri": "https://localhost:8080/",
          "height": 0
        },
        "id": "gnoz5OfVq1Ix",
        "outputId": "8de1a261-32f2-4401-a748-5d70ab14f4d1"
      },
      "execution_count": 25,
      "outputs": [
        {
          "output_type": "stream",
          "name": "stdout",
          "text": [
            "Random search generated text: \n",
            "['[BOS] \" we don \\' t know , \" mr . gentleman said , eagerly upon which men in the order of be raised . \" and your wife told me this man for the purpose and staluting each other . we shall have a large store in place , which we need still stand for the time for having to let olid it . it will be the dry island of our own goods . our resistance was entirely to old , and whom our canoes were sent to emulate yards from bush - footed windows from the rajahginiers , but those who would be repeated again to you , have been too much for the information']\n",
            "\n"
          ]
        }
      ]
    },
    {
      "cell_type": "code",
      "source": [
        "sampler = keras_hub.samplers.TopKSampler(k=10)\n",
        "output_tokens = sampler(\n",
        "    next=next,\n",
        "    prompt=prompt_tokens,\n",
        "    index=1,\n",
        ")\n",
        "txt = tokenizer.detokenize(output_tokens)\n",
        "print(f\"Top-K search generated text: \\n{txt}\\n\")"
      ],
      "metadata": {
        "colab": {
          "base_uri": "https://localhost:8080/",
          "height": 0
        },
        "id": "e_vNRxOfq7Db",
        "outputId": "3dc6eb94-b933-43ac-bc1a-0406d856d803"
      },
      "execution_count": 26,
      "outputs": [
        {
          "output_type": "stream",
          "name": "stdout",
          "text": [
            "Top-K search generated text: \n",
            "['[BOS] but the little girl felt her little pretensitive about her own age , she was too tired for her . it was so much for the poor , and it were very poor , but she never had a good time for many lessons in the world ; she would never forgive her for it , and it did not seem that it should be a little more . she was a poor old woman . she was a very good , and , as she had not been able to refin from her to the little girl and to her own way . she felt sure she could not be quite alone . she said that she could not understand it']\n",
            "\n"
          ]
        }
      ]
    },
    {
      "cell_type": "code",
      "source": [
        "sampler = keras_hub.samplers.TopPSampler(p=0.5)\n",
        "output_tokens = sampler(\n",
        "    next=next,\n",
        "    prompt=prompt_tokens,\n",
        "    index=1,\n",
        ")\n",
        "txt = tokenizer.detokenize(output_tokens)\n",
        "print(f\"Top-P search generated text: \\n{txt}\\n\")"
      ],
      "metadata": {
        "colab": {
          "base_uri": "https://localhost:8080/",
          "height": 0
        },
        "id": "cxkwRLqQq99C",
        "outputId": "e331c9a3-48c4-43a0-f855-66abbfcfb239"
      },
      "execution_count": 27,
      "outputs": [
        {
          "output_type": "stream",
          "name": "stdout",
          "text": [
            "Top-P search generated text: \n",
            "['[BOS] \" i \\' ll tell you what we can do , \" replied the mother . \" it \\' s only the old woman who \\' s had to be a brig , but the children are all gone by . we \\' ll go to the house and keep the children , \\' she says , \\' i \\' m a little out of her hand , \\' i am in the house , but she is a very old , and i \\' ll see you \\' ll never be in the world , and i \\' ll let her fall , and the best thing for you to have her , she can \\' t like to see her when she sees the']\n",
            "\n"
          ]
        }
      ]
    },
    {
      "cell_type": "code",
      "source": [
        "\n",
        "#clearing\n",
        "tf.compat.v1.reset_default_graph()\n",
        "\n",
        "#models\n",
        "gpt2_model = keras_nlp.models.GPT2CausalLM.from_preset(\"gpt2_base_en\")\n",
        "bert_model = keras_nlp.models.BertBackbone.from_preset(\"bert_base_en\")\n",
        "\n",
        "\n",
        "def generate_with_gpt2(prompt):\n",
        "    return gpt2_model.generate(prompt, max_length=NUM_TOKENS_TO_GENERATE)\n",
        "\n",
        "def generate_with_bert(prompt):\n",
        "\n",
        "    tokenizer = keras_nlp.models.BertTokenizer.from_preset(\"bert_base_en\")\n",
        "\n",
        "\n",
        "    encoded = tokenizer(prompt)\n",
        "\n",
        "    attention_mask = tf.ones_like(encoded)\n",
        "\n",
        "    token_type_ids = tf.zeros_like(encoded)\n",
        "\n",
        "\n",
        "    output = bert_model({\n",
        "        \"token_ids\": encoded[None, :],\n",
        "        \"padding_mask\": attention_mask[None, :],\n",
        "        \"segment_ids\": token_type_ids[None, :]\n",
        "    })\n",
        "\n",
        "\n",
        "    return tokenizer.detokenize(encoded)\n",
        "\n",
        "#test prompt\n",
        "prompt = 'He wakens in Ithaca, which he does not at first recognize. He learns from Athene, for the first time, that the wooers beset his house. She disguises him as an old man, and bids him go to the hut of the swineherd Eumaeus, who is loyal to his absent lord. Athene then goes to Lacedaemon, to bring back Telemachus, who has now resided there for a month. Odysseus won the heart of Eumaeus, who of course did not recognize him, and slept in the swineherd\\'s hut, while Athene was waking Telemachus in Lacedaemon and bidding him \"be mindful of his return.\"'\n",
        "\n",
        "#model gen\n",
        "print(f\"\\n{'='*50}\")\n",
        "print(f\"Prompt: {prompt}\")\n",
        "print('='*50)\n",
        "\n",
        "print(\"\\nGPT-2 Generated Text:\")\n",
        "gpt2_text = generate_with_gpt2(prompt)\n",
        "print(gpt2_text)\n",
        "\n",
        "print(\"\\nBERT Generated Text:\")\n",
        "bert_text = generate_with_bert(prompt)\n",
        "print(bert_text)\n",
        "print('='*50)"
      ],
      "metadata": {
        "colab": {
          "base_uri": "https://localhost:8080/",
          "height": 0
        },
        "id": "_acR-580y3HN",
        "outputId": "40ed637f-5214-41f3-9ddc-320c6095b399"
      },
      "execution_count": 28,
      "outputs": [
        {
          "output_type": "stream",
          "name": "stdout",
          "text": [
            "\n",
            "==================================================\n",
            "Prompt: He wakens in Ithaca, which he does not at first recognize. He learns from Athene, for the first time, that the wooers beset his house. She disguises him as an old man, and bids him go to the hut of the swineherd Eumaeus, who is loyal to his absent lord. Athene then goes to Lacedaemon, to bring back Telemachus, who has now resided there for a month. Odysseus won the heart of Eumaeus, who of course did not recognize him, and slept in the swineherd's hut, while Athene was waking Telemachus in Lacedaemon and bidding him \"be mindful of his return.\"\n",
            "==================================================\n",
            "\n",
            "GPT-2 Generated Text:\n",
            "He wakens in Ithaca, which he does not at first recognize. He learns from Athene, for the first time, that the wooers beset his house. She disguises him as an old man, and bids him go to the hut of the swineherd Eumaeus, who is loyal to his absent lord. Athene then goes to Lacedaemon\n",
            "\n",
            "BERT Generated Text:\n",
            "He wakens in Ithaca , which he does not at first recognize . He learns from Athene , for the first time , that the wooers beset his house . She disguises him as an old man , and bids him go to the hut of the swineherd Eumaeus , who is loyal to his absent lord . Athene then goes to Lacedaemon , to bring back Telemachus , who has now resided there for a month . Odysseus won the heart of Eumaeus , who of course did not recognize him , and slept in the swineherd ' s hut , while Athene was waking Telemachus in Lacedaemon and bidding him \" be mindful of his return . \"\n",
            "==================================================\n"
          ]
        }
      ]
    },
    {
      "cell_type": "code",
      "source": [
        "#clear\n",
        "tf.compat.v1.reset_default_graph()\n",
        "\n",
        "#odyssey text snippet\n",
        "prompt_text = 'He wakens in Ithaca, which he does not at first recognize. He learns from Athene, for the first time, that the wooers beset his house. She disguises him as an old man, and bids him go to the hut of the swineherd Eumaeus, who is loyal to his absent lord. Athene then goes to Lacedaemon, to bring back Telemachus, who has now resided there for a month. Odysseus won the heart of Eumaeus, who of course did not recognize him, and slept in the swineherd\\'s hut, while Athene was waking Telemachus in Lacedaemon and bidding him \"be mindful of his return.\"'\n",
        "\n",
        "#samplers\n",
        "samplers = {\n",
        "    \"Greedy\": keras_hub.samplers.GreedySampler(),\n",
        "    \"Beam\": keras_hub.samplers.BeamSampler(num_beams=10),\n",
        "    \"Random\": keras_hub.samplers.RandomSampler(),\n",
        "    \"TopK\": keras_hub.samplers.TopKSampler(k=10),\n",
        "    \"TopP\": keras_hub.samplers.TopPSampler(p=0.5)\n",
        "}\n",
        "\n",
        "print(f\"\\n{'='*50}\")\n",
        "print(f\"Prompt: {prompt_text}\")\n",
        "print('='*50)\n",
        "\n",
        "print(\"\\nCustom Model Outputs:\")\n",
        "\n",
        "for sampler_name, sampler in samplers.items():\n",
        "\n",
        "    prompt_tokens = start_packer(tokenizer([prompt_text]))\n",
        "\n",
        "\n",
        "    output_tokens = sampler(\n",
        "        next=next,\n",
        "        prompt=prompt_tokens,\n",
        "        index=1,\n",
        "    )\n",
        "\n",
        "    generated_text = tokenizer.detokenize(output_tokens)\n",
        "    print(f\"\\n{sampler_name} search generated text:\\n{generated_text}\")\n",
        "    print('-'*50)\n"
      ],
      "metadata": {
        "colab": {
          "base_uri": "https://localhost:8080/",
          "height": 0
        },
        "id": "KoY8U3js7NNS",
        "outputId": "0d160295-03b2-4237-a35c-16ed961b1c56"
      },
      "execution_count": 33,
      "outputs": [
        {
          "output_type": "stream",
          "name": "stdout",
          "text": [
            "\n",
            "==================================================\n",
            "Prompt: He wakens in Ithaca, which he does not at first recognize. He learns from Athene, for the first time, that the wooers beset his house. She disguises him as an old man, and bids him go to the hut of the swineherd Eumaeus, who is loyal to his absent lord. Athene then goes to Lacedaemon, to bring back Telemachus, who has now resided there for a month. Odysseus won the heart of Eumaeus, who of course did not recognize him, and slept in the swineherd's hut, while Athene was waking Telemachus in Lacedaemon and bidding him \"be mindful of his return.\"\n",
            "==================================================\n",
            "\n",
            "Custom Model Outputs:\n",
            "\n",
            "Greedy search generated text:\n",
            "['[BOS] \" i am not going to be a little girl , \" said the girl . \" i am not going to be a girl . i am going to ask you to be a girl . she is a girl , and she is a girl . she is a girl . she is a girl . she is a girl . she is a girl . she is a girl . she is a girl . she is a girl . she is a girl . she is a girl . she is a girl . she is a girl . she is a girl . she is a girl . she is a girl . she is a girl . she is a girl']\n",
            "--------------------------------------------------\n",
            "\n",
            "Beam search generated text:\n",
            "['[BOS] \" i don \\' t know , \" she said . \" i don \\' t want to tell you about it , but i don \\' t want to tell you about it . i don \\' t want to tell you something about it . i don \\' t like it . i don \\' t like it . i don \\' t like it . i don \\' t like it . i don \\' t like it . i don \\' t like it . i don \\' t like it . i don \\' t like it . i don \\' t like it . i don \\' t like it . i don \\' t like it . i don \\'']\n",
            "--------------------------------------------------\n",
            "\n",
            "Random search generated text:\n",
            "['[BOS] \" that has grown too much , jack answered , when he had grown fat and thin silk ; he looks so strangely , and his horns are ; but he fears and ugly - looking . \\' i don \\' t tell him now . hin - bsockle ! \\' s every man with the rain , like these shoes off , with one feather bed . he needs brave a drum of pale melut tree , the same falling in levies , but the man , enduring him food , tell him , loveo , with his golden hulls , laugh and offers a gro . the boy']\n",
            "--------------------------------------------------\n",
            "\n",
            "TopK search generated text:\n",
            "['[BOS] as the generals were on the other side of france , the english general had to command the troops under general chargy , and was in charge of the regiment , the british army of continental , with a force marching to the assistance of his regiment . the duke of frances had been sent out from the front gate , where the british were marching against the enemy side , and the other british army were advancing on the right flank . they had fought with them in the english army , and now joined , and the french army advanced . the duke of confines , with the army and a french army']\n",
            "--------------------------------------------------\n",
            "\n",
            "TopP search generated text:\n",
            "['[BOS] \" it is a good thing to be done , \" he said , in accordance , \" that is , it is , that the truth is , that he has to go down the lake and has been left behind the thirst . it is , it is the first , and has no fear of the battle . he has been taken up and will see him . it is the man who has been with him . he is not a knight , but he has not yet been so brave as he is , and he has killed him . but the first time he is a knight , and the scare ,']\n",
            "--------------------------------------------------\n"
          ]
        }
      ]
    },
    {
      "cell_type": "code",
      "source": [
        "from nltk.metrics.distance import edit_distance\n",
        "import matplotlib.pyplot as plt\n",
        "import pandas as pd\n",
        "\n",
        "prompt_text = \"He wakens in Ithaca, which he does not at first recognize. He learns from Athene, for the first time, that the wooers beset his house. She disguises him as an old man, and bids him go to the hut of the swineherd Eumaeus, who is loyal to his absent lord. Athene then goes to Lacedaemon, to bring back Telemachus, who has now resided there for a month. Odysseus won the heart of Eumaeus, who of course did not recognize him, and slept in the swineherd's hut, while Athene was waking Telemachus in Lacedaemon and bidding him 'be mindful of his return.'\"\n",
        "\n",
        "#models text\n",
        "gpt2_text = \"He wakens in Ithaca, which he does not at first recognize. He learns from Athene, for the first time, that the wooers beset his house. She disguises him as an old man, and bids him go to the hut of the swineherd Eumaeus, who is loyal to his absent lord. Athene then goes to Lacedaemon\"\n",
        "bert_text = \"He wakens in Ithaca , which he does not at first recognize . He learns from Athene , for the first time , that the wooers beset his house . She disguises him as an old man , and bids him go to the hut of the swineherd Eumaeus , who is loyal to his absent lord . Athene then goes to Lacedaemon , to bring back Telemachus , who has now resided there for a month . Odysseus won the heart of Eumaeus , who of course did not recognize him , and slept in the swineherd ' s hut , while Athene was waking Telemachus in Lacedaemon and bidding him be mindful of his return. \"\n",
        "#I chose random search\n",
        "custom_text = \"that has grown too much , jack answered , when he had grown fat and thin silk ; he looks so strangely , and his horns are ; but he fears and ugly - looking . \\' i don \\' t tell him now . hin - bsockle ! \\' s every man with the rain , like these shoes off , with one feather bed . he needs brave a drum of pale melut tree , the same falling in levies , but the man , enduring him food , tell him , loveo , with his golden hulls , laugh and offers a gro . the boy\"\n",
        "\n",
        "#distances\n",
        "dist_prompt_gpt2 = edit_distance(prompt_text, gpt2_text)\n",
        "dist_prompt_bert = edit_distance(prompt_text, bert_text)\n",
        "dist_prompt_custom = edit_distance(prompt_text, custom_text)\n",
        "\n",
        "distance_data = pd.DataFrame({\n",
        "    'Model': ['GPT-2', 'BERT', 'Custom Model'],\n",
        "    'Edit Distance': [dist_prompt_gpt2, dist_prompt_bert, dist_prompt_custom]\n",
        "})\n",
        "\n",
        "#plotting\n",
        "plt.figure(figsize=(10, 6))\n",
        "plt.bar(distance_data['Model'], distance_data['Edit Distance'], color=['#1f77b4', '#ff7f0e', '#2ca02c'])\n",
        "plt.xlabel(\"Model\")\n",
        "plt.ylabel(\"Edit Distance to Prompt\")\n",
        "plt.title(\"Edit Distance of Each Model's Output to the Prompt\")\n",
        "plt.show()\n"
      ],
      "metadata": {
        "colab": {
          "base_uri": "https://localhost:8080/",
          "height": 564
        },
        "id": "1O-eryLO9kPP",
        "outputId": "0ec23612-d0e1-4f55-e1e0-e52bdbccccbd"
      },
      "execution_count": 36,
      "outputs": [
        {
          "output_type": "display_data",
          "data": {
            "text/plain": [
              "<Figure size 1000x600 with 1 Axes>"
            ],
            "image/png": "[encoded data removed]"
          },
          "metadata": {}
        }
      ]
    },
    {
      "cell_type": "markdown",
      "source": [
        "Interpretation of experiment and results:\n",
        "Overview of the experiment I chose Google's BERT model and Chatgpt2 as they seemed like solid and balanced models for prompt generation. I followed the tutorial and I had to use colab as trying Rivanna and locally at first did not work with the dependencies and version of tf and keras.\n",
        "\n",
        "After creating the original model and seeing the prompt generation shown by the tutorial it seemed like this model created a lot of non sense text. I then used the pre trained models, gpt2 and BERT with comparison to a custom prompt. The prompt I chose was a snippet of the Odyssey. I then generated text using the original model, gpt2, and BERT. I then did edit distance evaluation to compare how they faired from the original prompt, learned from NLP course at UVA. At it appeared that the custom model performed the worst as it had the most dissimilar text output from the prompt, gpt2 was second best, and BERT was very close to the content of the prompt."
      ],
      "metadata": {
        "id": "Fl6HMDxZAIdc"
      }
    },
    {
      "cell_type": "code",
      "source": [],
      "metadata": {
        "id": "nW06jBJ4BWpb"
      },
      "execution_count": null,
      "outputs": []
    }
  ]
}